{
  "cells": [
    {
      "cell_type": "markdown",
      "id": "ee54a31c",
      "metadata": {
        "id": "ee54a31c"
      },
      "source": [
        "# T5 Abstractive Text Summarization\n",
        "\n",
        "Train a T5 model on news articles and generate summaries."
      ]
    },
    {
      "cell_type": "markdown",
      "id": "e6a53a4d",
      "metadata": {
        "id": "e6a53a4d"
      },
      "source": [
        "## Install Requirements"
      ]
    },
    {
      "cell_type": "code",
      "execution_count": null,
      "id": "ea55e3a3",
      "metadata": {
        "colab": {
          "base_uri": "https://localhost:8080/"
        },
        "id": "ea55e3a3",
        "outputId": "0997ea41-98ba-4aae-c6fd-466eccd0d027"
      },
      "outputs": [
        {
          "name": "stdout",
          "output_type": "stream",
          "text": [
            "✓ All requirements installed\n"
          ]
        }
      ],
      "source": [
        "import subprocess\n",
        "import sys\n",
        "\n",
        "# Install required packages\n",
        "packages = [\n",
        "    \"torch\",\n",
        "    \"pytorch-lightning\",\n",
        "    \"transformers\",\n",
        "    \"scikit-learn\",\n",
        "    \"pandas\",\n",
        "    \"numpy\"\n",
        "]\n",
        "\n",
        "for package in packages:\n",
        "    subprocess.check_call([sys.executable, \"-m\", \"pip\", \"install\", \"-q\", package])\n",
        "\n",
        "print(\"✓ All requirements installed\")"
      ]
    },
    {
      "cell_type": "markdown",
      "id": "fd2ce438",
      "metadata": {
        "id": "fd2ce438"
      },
      "source": [
        "## Download dataset\n",
        "\n",
        "Run this cell first to download dataset:"
      ]
    },
    {
      "cell_type": "code",
      "execution_count": 49,
      "id": "e24fa882",
      "metadata": {
        "colab": {
          "base_uri": "https://localhost:8080/"
        },
        "id": "e24fa882",
        "outputId": "16f73d8b-3654-4fb1-c4de-000c78b01bd3"
      },
      "outputs": [
        {
          "name": "stdout",
          "output_type": "stream",
          "text": [
            "✅ Dataset already exists locally\n"
          ]
        }
      ],
      "source": [
        "import os\n",
        "import requests\n",
        "\n",
        "# Make sure local folder exists\n",
        "os.makedirs(\"/content/data\", exist_ok=True)\n",
        "\n",
        "url = \"https://drive.usercontent.google.com/u/0/uc?id=16KxuBVMHnTpZziRMUJ1HXEKDt2QDFWvr&export=download\"\n",
        "output_path = \"/content/data/news_summary.csv\"\n",
        "\n",
        "# Download only if not already present\n",
        "if not os.path.exists(output_path):\n",
        "    print(\"⏳ Downloading dataset...\")\n",
        "    response = requests.get(url, stream=True)\n",
        "    response.raise_for_status()  # Throw error if download fails\n",
        "    with open(output_path, \"wb\") as f:\n",
        "        for chunk in response.iter_content(chunk_size=8192):\n",
        "            if chunk:\n",
        "                f.write(chunk)\n",
        "    print(f\"✅ Dataset downloaded to {output_path}\")\n",
        "else:\n",
        "    print(\"✅ Dataset already exists locally\")\n"
      ]
    },
    {
      "cell_type": "code",
      "execution_count": 5,
      "id": "eb2b0f55",
      "metadata": {
        "colab": {
          "base_uri": "https://localhost:8080/"
        },
        "id": "eb2b0f55",
        "outputId": "715e6493-1dad-4f89-96af-6338fd04e268"
      },
      "outputs": [
        {
          "name": "stdout",
          "output_type": "stream",
          "text": [
            "PyTorch: 2.8.0+cu126\n",
            "PyTorch Lightning: 2.5.5\n",
            "CUDA available: True\n"
          ]
        }
      ],
      "source": [
        "import os\n",
        "import pandas as pd\n",
        "import torch\n",
        "import pytorch_lightning as pl\n",
        "from torch.optim import AdamW\n",
        "from torch.utils.data import Dataset, DataLoader\n",
        "from transformers import T5TokenizerFast, T5ForConditionalGeneration\n",
        "from sklearn.model_selection import train_test_split\n",
        "\n",
        "print(f\"PyTorch: {torch.__version__}\")\n",
        "print(f\"PyTorch Lightning: {pl.__version__}\")\n",
        "print(f\"CUDA available: {torch.cuda.is_available()}\")"
      ]
    },
    {
      "cell_type": "markdown",
      "id": "63ffaaaf",
      "metadata": {
        "id": "63ffaaaf"
      },
      "source": [
        "## Configuration"
      ]
    },
    {
      "cell_type": "code",
      "execution_count": 6,
      "id": "c43c5638",
      "metadata": {
        "colab": {
          "base_uri": "https://localhost:8080/"
        },
        "id": "c43c5638",
        "outputId": "452676a9-0c32-43f6-c5bd-e043d82dc374"
      },
      "outputs": [
        {
          "name": "stderr",
          "output_type": "stream",
          "text": [
            "/usr/local/lib/python3.12/dist-packages/huggingface_hub/utils/_auth.py:94: UserWarning: \n",
            "The secret `HF_TOKEN` does not exist in your Colab secrets.\n",
            "To authenticate with the Hugging Face Hub, create a token in your settings tab (https://huggingface.co/settings/tokens), set it as secret in your Google Colab and restart your session.\n",
            "You will be able to reuse this secret in all of your notebooks.\n",
            "Please note that authentication is recommended but still optional to access public models or datasets.\n",
            "  warnings.warn(\n"
          ]
        },
        {
          "name": "stdout",
          "output_type": "stream",
          "text": [
            "GPU enabled: True\n",
            "Batch size: 8, Epochs: 3\n",
            "Max input tokens: 1024, Max output tokens: 256\n"
          ]
        }
      ],
      "source": [
        "class Config:\n",
        "    num_workers = os.cpu_count()\n",
        "    n_epochs = 3\n",
        "    batch_size = 8\n",
        "    dataset_path = \"/content/data/news_summary.csv\"\n",
        "    checkpoint_path = \"t5_checkpoints/t5-best-checkpoint.ckpt\"\n",
        "    text_token_max_length = 1024\n",
        "    summary_token_max_length = 256\n",
        "    learning_rate = 0.0001\n",
        "    use_gpu = torch.cuda.is_available()\n",
        "    t5_model_path = \"t5-base\"\n",
        "    t5_tokenizer = T5TokenizerFast.from_pretrained(t5_model_path)\n",
        "    t5_pretrained_model = T5ForConditionalGeneration.from_pretrained(t5_model_path, return_dict=True)\n",
        "\n",
        "config = Config()\n",
        "print(f\"GPU enabled: {config.use_gpu}\")\n",
        "print(f\"Batch size: {config.batch_size}, Epochs: {config.n_epochs}\")\n",
        "print(f\"Max input tokens: {config.text_token_max_length}, Max output tokens: {config.summary_token_max_length}\")"
      ]
    },
    {
      "cell_type": "markdown",
      "id": "becff8af",
      "metadata": {
        "id": "becff8af"
      },
      "source": [
        "## Data Preparation"
      ]
    },
    {
      "cell_type": "code",
      "execution_count": 7,
      "id": "f6a1ceee",
      "metadata": {
        "colab": {
          "base_uri": "https://localhost:8080/"
        },
        "id": "f6a1ceee",
        "outputId": "2b1ad60a-7705-4f4b-cbc4-c1304ba0cef1"
      },
      "outputs": [
        {
          "name": "stdout",
          "output_type": "stream",
          "text": [
            "Train samples: 3956, Val samples: 440\n"
          ]
        }
      ],
      "source": [
        "class NewsSummaryDataset(Dataset):\n",
        "    def __init__(self, data, tokenizer, text_max_token_len=512, summary_max_token_len=128):\n",
        "        self.tokenizer = tokenizer\n",
        "        self.data = data\n",
        "        self.text_max_token_len = text_max_token_len\n",
        "        self.summary_max_token_len = summary_max_token_len\n",
        "\n",
        "    def __len__(self):\n",
        "        return len(self.data)\n",
        "\n",
        "    def __getitem__(self, index):\n",
        "        data_row = self.data.iloc[index]\n",
        "        text = data_row['text']\n",
        "        summary = data_row['summary']\n",
        "\n",
        "        text_encoding = self.tokenizer(\n",
        "            text, max_length=self.text_max_token_len, padding=\"max_length\",\n",
        "            truncation=True, return_attention_mask=True, add_special_tokens=True,\n",
        "            return_tensors=\"pt\"\n",
        "        )\n",
        "\n",
        "        summary_encoding = self.tokenizer(\n",
        "            summary, max_length=self.summary_max_token_len, padding=\"max_length\",\n",
        "            truncation=True, return_attention_mask=True, add_special_tokens=True,\n",
        "            return_tensors=\"pt\"\n",
        "        )\n",
        "\n",
        "        labels = summary_encoding['input_ids']\n",
        "        labels[labels == 0] = -100\n",
        "\n",
        "        return dict(\n",
        "            text=text, summary=summary,\n",
        "            text_input_ids=text_encoding['input_ids'].flatten(),\n",
        "            text_attention_mask=text_encoding['attention_mask'].flatten(),\n",
        "            labels=labels.flatten(),\n",
        "            labels_attention_mask=summary_encoding['attention_mask'].flatten()\n",
        "        )\n",
        "\n",
        "# Load and prepare data\n",
        "data = pd.read_csv(config.dataset_path, encoding='latin-1')\n",
        "data = data[['ctext', 'text']].rename(columns={'ctext': 'text', 'text': 'summary'}).dropna()\n",
        "train_df, val_df = train_test_split(data, test_size=0.1, random_state=42)\n",
        "\n",
        "print(f\"Train samples: {len(train_df)}, Val samples: {len(val_df)}\")"
      ]
    },
    {
      "cell_type": "markdown",
      "id": "f2a60691",
      "metadata": {
        "id": "f2a60691"
      },
      "source": [
        "## Model Definition"
      ]
    },
    {
      "cell_type": "code",
      "execution_count": 8,
      "id": "c181d472",
      "metadata": {
        "id": "c181d472"
      },
      "outputs": [],
      "source": [
        "class NewsSummaryModel(pl.LightningModule):\n",
        "    def __init__(self, model=None):\n",
        "        super().__init__()\n",
        "        self.model = config.t5_pretrained_model\n",
        "\n",
        "    def forward(self, input_ids, attention_mask, decoder_attention_mask, labels=None):\n",
        "        output = self.model(\n",
        "            input_ids=input_ids, attention_mask=attention_mask,\n",
        "            labels=labels, decoder_attention_mask=decoder_attention_mask\n",
        "        )\n",
        "        return output.loss, output.logits\n",
        "\n",
        "    def training_step(self, batch, batch_idx):\n",
        "        loss, _ = self(\n",
        "            input_ids=batch['text_input_ids'],\n",
        "            attention_mask=batch['text_attention_mask'],\n",
        "            decoder_attention_mask=batch['labels_attention_mask'],\n",
        "            labels=batch['labels']\n",
        "        )\n",
        "        self.log(\"train_loss\", loss, prog_bar=True)\n",
        "        return loss\n",
        "\n",
        "    def validation_step(self, batch, batch_idx):\n",
        "        loss, _ = self(\n",
        "            input_ids=batch['text_input_ids'],\n",
        "            attention_mask=batch['text_attention_mask'],\n",
        "            decoder_attention_mask=batch['labels_attention_mask'],\n",
        "            labels=batch['labels']\n",
        "        )\n",
        "        self.log(\"val_loss\", loss, prog_bar=True)\n",
        "        return loss\n",
        "\n",
        "    def configure_optimizers(self):\n",
        "        return AdamW(self.parameters(), lr=config.learning_rate)"
      ]
    },
    {
      "cell_type": "markdown",
      "id": "e93afefe",
      "metadata": {
        "id": "e93afefe"
      },
      "source": [
        "## Training"
      ]
    },
    {
      "cell_type": "code",
      "execution_count": null,
      "id": "ba71e9a4",
      "metadata": {
        "colab": {
          "base_uri": "https://localhost:8080/",
          "height": 393,
          "referenced_widgets": [
            "28d9fdec687a4bccb85d6d51e753272f",
            "7d6b444944f24dbdb352cde5a8d57205",
            "4c0913e0ab374173b37893fe02e13c2d",
            "a5a10332e74340c0ae22b60e0bb8884f",
            "c5b6170e203b47ec8fe028b362698311",
            "277bc039e47a493c88a230e347cb7969",
            "f4bf382acef64606b6ae77651b82994a",
            "18f927c343cd4d2592485e534edb4c49",
            "2d7cad265c7549eca777e7b7174851ea",
            "96ccdc01edb84dc49d93e926f9317bd9",
            "bf3c217e496b456eb3b6ba0edfc64344",
            "6e031e2c7e204a00bdb225260e4f04d9",
            "b28c497703e044a480f6e282c1203e14",
            "380f126a696a4fab837d7837e0f515b5",
            "24bb35c5c54047d494db0ec262eb8b7a",
            "1f725b05915e43e2be57991409a9b9e7",
            "ef778d7b4fb248b3827c4f41a6f4fabd",
            "a0ea6e43b4b0427ba62a9ce6a1275db8",
            "8e286578dcf2485e863a376b607f04c6",
            "2817fab1529549849383ed8ddcf9d43b",
            "6806c4d18be54e3a8de258d36ad85586",
            "071c94cf3ff2436197f5f4f3632895e4"
          ]
        },
        "id": "ba71e9a4",
        "outputId": "59c15b8e-bde0-4a74-83b3-eedceaf03c98"
      },
      "outputs": [
        {
          "name": "stderr",
          "output_type": "stream",
          "text": [
            "INFO:pytorch_lightning.utilities.rank_zero:GPU available: True (cuda), used: True\n",
            "INFO:pytorch_lightning.utilities.rank_zero:TPU available: False, using: 0 TPU cores\n",
            "INFO:pytorch_lightning.utilities.rank_zero:HPU available: False, using: 0 HPUs\n",
            "INFO:pytorch_lightning.utilities.rank_zero:Restoring states from the checkpoint path at t5_checkpoints/t5-best-checkpoint.ckpt\n"
          ]
        },
        {
          "name": "stdout",
          "output_type": "stream",
          "text": [
            "✓ Resuming from: t5_checkpoints/t5-best-checkpoint.ckpt\n"
          ]
        },
        {
          "name": "stderr",
          "output_type": "stream",
          "text": [
            "INFO:pytorch_lightning.accelerators.cuda:LOCAL_RANK: 0 - CUDA_VISIBLE_DEVICES: [0]\n",
            "INFO:pytorch_lightning.callbacks.model_summary:\n",
            "  | Name  | Type                       | Params | Mode \n",
            "-------------------------------------------------------------\n",
            "0 | model | T5ForConditionalGeneration | 222 M  | train\n",
            "-------------------------------------------------------------\n",
            "222 M     Trainable params\n",
            "0         Non-trainable params\n",
            "222 M     Total params\n",
            "891.614   Total estimated model params size (MB)\n",
            "541       Modules in train mode\n",
            "0         Modules in eval mode\n",
            "INFO:pytorch_lightning.utilities.rank_zero:Restored all states from the checkpoint at t5_checkpoints/t5-best-checkpoint.ckpt\n"
          ]
        },
        {
          "data": {
            "application/vnd.jupyter.widget-view+json": {
              "model_id": "28d9fdec687a4bccb85d6d51e753272f",
              "version_major": 2,
              "version_minor": 0
            },
            "text/plain": [
              "Sanity Checking: |          | 0/? [00:00<?, ?it/s]"
            ]
          },
          "metadata": {},
          "output_type": "display_data"
        },
        {
          "data": {
            "application/vnd.jupyter.widget-view+json": {
              "model_id": "6e031e2c7e204a00bdb225260e4f04d9",
              "version_major": 2,
              "version_minor": 0
            },
            "text/plain": [
              "Training: |          | 0/? [00:00<?, ?it/s]"
            ]
          },
          "metadata": {},
          "output_type": "display_data"
        }
      ],
      "source": [
        "# Create dataloaders\n",
        "train_dataset = NewsSummaryDataset(train_df, config.t5_tokenizer)\n",
        "val_dataset = NewsSummaryDataset(val_df, config.t5_tokenizer)\n",
        "\n",
        "train_loader = DataLoader(train_dataset, batch_size=config.batch_size, shuffle=True, num_workers=config.num_workers)\n",
        "val_loader = DataLoader(val_dataset, batch_size=config.batch_size, shuffle=False, num_workers=config.num_workers)\n",
        "\n",
        "# ModelCheckpoint callback\n",
        "checkpoint_callback = pl.callbacks.ModelCheckpoint(\n",
        "    dirpath=\"t5_checkpoints\",\n",
        "    filename=\"t5-best-checkpoint\",\n",
        "    save_top_k=1,\n",
        "    monitor=\"val_loss\",\n",
        "    mode=\"min\",\n",
        "    verbose=True\n",
        ")\n",
        "\n",
        "# Trainer\n",
        "trainer = pl.Trainer(\n",
        "    callbacks=[checkpoint_callback],\n",
        "    max_epochs=config.n_epochs,\n",
        "    accelerator=\"gpu\" if config.use_gpu else \"cpu\",\n",
        "    devices=1,\n",
        "    enable_progress_bar=True\n",
        ")\n",
        "\n",
        "# Resume if checkpoint exists, else start fresh\n",
        "checkpoint_path = config.checkpoint_path\n",
        "model = NewsSummaryModel()\n",
        "model.train()\n",
        "\n",
        "if os.path.exists(checkpoint_path):\n",
        "    print(f\"✓ Resuming from: {checkpoint_path}\")\n",
        "    trainer.fit(model, train_loader, val_loader, ckpt_path=checkpoint_path)\n",
        "else:\n",
        "    print(\"✓ Starting fresh training\")\n",
        "    trainer.fit(model, train_loader, val_loader)"
      ]
    },
    {
      "cell_type": "markdown",
      "id": "c16834d8",
      "metadata": {
        "id": "c16834d8"
      },
      "source": [
        "## Inference"
      ]
    },
    {
      "cell_type": "code",
      "execution_count": 56,
      "id": "0542fb65",
      "metadata": {
        "colab": {
          "base_uri": "https://localhost:8080/"
        },
        "id": "0542fb65",
        "outputId": "139bc843-c111-4df9-a313-d2b60e3c05ce"
      },
      "outputs": [
        {
          "name": "stdout",
          "output_type": "stream",
          "text": [
            "Loaded checkpoint from t5_checkpoints/t5-best-checkpoint.ckpt\n"
          ]
        }
      ],
      "source": [
        "# Load best checkpoint\n",
        "checkpoint_path = config.checkpoint_path\n",
        "if os.path.exists(checkpoint_path):\n",
        "    trained_model = NewsSummaryModel.load_from_checkpoint(checkpoint_path)\n",
        "    trained_model.freeze()\n",
        "    print(f\"Loaded checkpoint from {checkpoint_path}\")\n",
        "else:\n",
        "    print(f\"Checkpoint not found at {checkpoint_path}\")\n",
        "    trained_model = model"
      ]
    },
    {
      "cell_type": "code",
      "execution_count": 48,
      "id": "16b7fec8",
      "metadata": {
        "colab": {
          "base_uri": "https://localhost:8080/"
        },
        "id": "16b7fec8",
        "outputId": "7c4be7dc-d126-4d6b-88e5-57ef1a56c5a8"
      },
      "outputs": [
        {
          "name": "stdout",
          "output_type": "stream",
          "text": [
            "Original Text:\n",
            "Machine learning is an important component of the growing field of data science. Through the use of statistical methods, algorithms are trained to make classifications or predictions, uncovering key insights within data mining projects.\n",
            "These insights subsequently drive decision making within applications and businesses, ideally impacting key growth metrics. As big data continues to expand and grow, the market demand for data scientists will increase, requiring them to \n",
            "assist in the identification of the most relevant business questions and subsequently the data to answer them.\n",
            "\n",
            "================================================================================\n",
            "\n"
          ]
        }
      ],
      "source": [
        "# Test article\n",
        "test_text = \"\"\"Machine learning is an important component of the growing field of data science. Through the use of statistical methods, algorithms are trained to make classifications or predictions, uncovering key insights within data mining projects.\n",
        "These insights subsequently drive decision making within applications and businesses, ideally impacting key growth metrics. As big data continues to expand and grow, the market demand for data scientists will increase, requiring them to\n",
        "assist in the identification of the most relevant business questions and subsequently the data to answer them.\"\"\"\n",
        "\n",
        "print(\"Original Text:\")\n",
        "print(test_text)\n",
        "print(\"\\n\" + \"=\"*80 + \"\\n\")"
      ]
    },
    {
      "cell_type": "code",
      "execution_count": 55,
      "id": "a89b3b30",
      "metadata": {
        "colab": {
          "base_uri": "https://localhost:8080/"
        },
        "id": "a89b3b30",
        "outputId": "f466dd7b-1d58-409e-d594-1419f4c4c522"
      },
      "outputs": [
        {
          "name": "stdout",
          "output_type": "stream",
          "text": [
            "Generated Summary:\n",
            "Machine-learning is an important component of the growing field of data science. Through machine learning, algorithms are trained to make classifications or predictions, uncovering key insights within applications and businesses. This subsequently drives decision-making within applications and businesses, impacting key growth metrics.\n"
          ]
        }
      ],
      "source": [
        "# Generate summary\n",
        "text_encoding = config.t5_tokenizer(\n",
        "    test_text, max_length=config.text_token_max_length, padding=\"max_length\", truncation=True,\n",
        "    return_attention_mask=True, add_special_tokens=True, return_tensors=\"pt\"\n",
        ")\n",
        "\n",
        "device = next(trained_model.model.parameters()).device\n",
        "\n",
        "input_ids = text_encoding['input_ids'].to(device)\n",
        "attention_mask = text_encoding['attention_mask'].to(device)\n",
        "\n",
        "generated_ids = trained_model.model.generate(\n",
        "    input_ids=input_ids,\n",
        "    attention_mask=attention_mask,\n",
        "    max_length=256,\n",
        "    num_beams=2,\n",
        "    repetition_penalty=2.5,\n",
        "    length_penalty=1.0,\n",
        "    early_stopping=True\n",
        ")\n",
        "\n",
        "summary = config.t5_tokenizer.decode(generated_ids[0], skip_special_tokens=True, clean_up_tokenization_spaces=True)\n",
        "\n",
        "print(\"Generated Summary:\")\n",
        "print(summary)"
      ]
    },
    {
      "cell_type": "markdown",
      "id": "fcbf3376",
      "metadata": {
        "id": "fcbf3376"
      },
      "source": [
        "## Checkpoint Management\n",
        "\n",
        "The best checkpoint is automatically saved during training. Use the options below to download or access it."
      ]
    },
    {
      "cell_type": "code",
      "execution_count": null,
      "id": "5d51ef98",
      "metadata": {
        "id": "5d51ef98"
      },
      "outputs": [],
      "source": [
        "# Download checkpoint from Google Drive\n",
        "from google.colab import files\n",
        "files.download(\"/content/drive/MyDrive/checkpoints/t5-best-checkpoint.ckpt\")\n",
        "print(\"✓ Checkpoint downloaded\")"
      ]
    }
  ],
  "metadata": {
    "accelerator": "GPU",
    "colab": {
      "gpuType": "T4",
      "provenance": []
    },
    "kernelspec": {
      "display_name": "Python 3",
      "name": "python3"
    },
    "language_info": {
      "name": "python"
    },
    "widgets": {
      "application/vnd.jupyter.widget-state+json": {
        "071c94cf3ff2436197f5f4f3632895e4": {
          "model_module": "@jupyter-widgets/controls",
          "model_module_version": "1.5.0",
          "model_name": "DescriptionStyleModel",
          "state": {
            "_model_module": "@jupyter-widgets/controls",
            "_model_module_version": "1.5.0",
            "_model_name": "DescriptionStyleModel",
            "_view_count": null,
            "_view_module": "@jupyter-widgets/base",
            "_view_module_version": "1.2.0",
            "_view_name": "StyleView",
            "description_width": ""
          }
        },
        "18f927c343cd4d2592485e534edb4c49": {
          "model_module": "@jupyter-widgets/base",
          "model_module_version": "1.2.0",
          "model_name": "LayoutModel",
          "state": {
            "_model_module": "@jupyter-widgets/base",
            "_model_module_version": "1.2.0",
            "_model_name": "LayoutModel",
            "_view_count": null,
            "_view_module": "@jupyter-widgets/base",
            "_view_module_version": "1.2.0",
            "_view_name": "LayoutView",
            "align_content": null,
            "align_items": null,
            "align_self": null,
            "border": null,
            "bottom": null,
            "display": null,
            "flex": "2",
            "flex_flow": null,
            "grid_area": null,
            "grid_auto_columns": null,
            "grid_auto_flow": null,
            "grid_auto_rows": null,
            "grid_column": null,
            "grid_gap": null,
            "grid_row": null,
            "grid_template_areas": null,
            "grid_template_columns": null,
            "grid_template_rows": null,
            "height": null,
            "justify_content": null,
            "justify_items": null,
            "left": null,
            "margin": null,
            "max_height": null,
            "max_width": null,
            "min_height": null,
            "min_width": null,
            "object_fit": null,
            "object_position": null,
            "order": null,
            "overflow": null,
            "overflow_x": null,
            "overflow_y": null,
            "padding": null,
            "right": null,
            "top": null,
            "visibility": null,
            "width": null
          }
        },
        "1f725b05915e43e2be57991409a9b9e7": {
          "model_module": "@jupyter-widgets/base",
          "model_module_version": "1.2.0",
          "model_name": "LayoutModel",
          "state": {
            "_model_module": "@jupyter-widgets/base",
            "_model_module_version": "1.2.0",
            "_model_name": "LayoutModel",
            "_view_count": null,
            "_view_module": "@jupyter-widgets/base",
            "_view_module_version": "1.2.0",
            "_view_name": "LayoutView",
            "align_content": null,
            "align_items": null,
            "align_self": null,
            "border": null,
            "bottom": null,
            "display": "inline-flex",
            "flex": null,
            "flex_flow": "row wrap",
            "grid_area": null,
            "grid_auto_columns": null,
            "grid_auto_flow": null,
            "grid_auto_rows": null,
            "grid_column": null,
            "grid_gap": null,
            "grid_row": null,
            "grid_template_areas": null,
            "grid_template_columns": null,
            "grid_template_rows": null,
            "height": null,
            "justify_content": null,
            "justify_items": null,
            "left": null,
            "margin": null,
            "max_height": null,
            "max_width": null,
            "min_height": null,
            "min_width": null,
            "object_fit": null,
            "object_position": null,
            "order": null,
            "overflow": null,
            "overflow_x": null,
            "overflow_y": null,
            "padding": null,
            "right": null,
            "top": null,
            "visibility": null,
            "width": "100%"
          }
        },
        "24bb35c5c54047d494db0ec262eb8b7a": {
          "model_module": "@jupyter-widgets/controls",
          "model_module_version": "1.5.0",
          "model_name": "HTMLModel",
          "state": {
            "_dom_classes": [],
            "_model_module": "@jupyter-widgets/controls",
            "_model_module_version": "1.5.0",
            "_model_name": "HTMLModel",
            "_view_count": null,
            "_view_module": "@jupyter-widgets/controls",
            "_view_module_version": "1.5.0",
            "_view_name": "HTMLView",
            "description": "",
            "description_tooltip": null,
            "layout": "IPY_MODEL_6806c4d18be54e3a8de258d36ad85586",
            "placeholder": "​",
            "style": "IPY_MODEL_071c94cf3ff2436197f5f4f3632895e4",
            "value": " 160/495 [03:24&lt;07:07,  0.78it/s, v_num=12, train_loss=1.470]"
          }
        },
        "277bc039e47a493c88a230e347cb7969": {
          "model_module": "@jupyter-widgets/base",
          "model_module_version": "1.2.0",
          "model_name": "LayoutModel",
          "state": {
            "_model_module": "@jupyter-widgets/base",
            "_model_module_version": "1.2.0",
            "_model_name": "LayoutModel",
            "_view_count": null,
            "_view_module": "@jupyter-widgets/base",
            "_view_module_version": "1.2.0",
            "_view_name": "LayoutView",
            "align_content": null,
            "align_items": null,
            "align_self": null,
            "border": null,
            "bottom": null,
            "display": null,
            "flex": null,
            "flex_flow": null,
            "grid_area": null,
            "grid_auto_columns": null,
            "grid_auto_flow": null,
            "grid_auto_rows": null,
            "grid_column": null,
            "grid_gap": null,
            "grid_row": null,
            "grid_template_areas": null,
            "grid_template_columns": null,
            "grid_template_rows": null,
            "height": null,
            "justify_content": null,
            "justify_items": null,
            "left": null,
            "margin": null,
            "max_height": null,
            "max_width": null,
            "min_height": null,
            "min_width": null,
            "object_fit": null,
            "object_position": null,
            "order": null,
            "overflow": null,
            "overflow_x": null,
            "overflow_y": null,
            "padding": null,
            "right": null,
            "top": null,
            "visibility": null,
            "width": null
          }
        },
        "2817fab1529549849383ed8ddcf9d43b": {
          "model_module": "@jupyter-widgets/controls",
          "model_module_version": "1.5.0",
          "model_name": "ProgressStyleModel",
          "state": {
            "_model_module": "@jupyter-widgets/controls",
            "_model_module_version": "1.5.0",
            "_model_name": "ProgressStyleModel",
            "_view_count": null,
            "_view_module": "@jupyter-widgets/base",
            "_view_module_version": "1.2.0",
            "_view_name": "StyleView",
            "bar_color": null,
            "description_width": ""
          }
        },
        "28d9fdec687a4bccb85d6d51e753272f": {
          "model_module": "@jupyter-widgets/controls",
          "model_module_version": "1.5.0",
          "model_name": "HBoxModel",
          "state": {
            "_dom_classes": [],
            "_model_module": "@jupyter-widgets/controls",
            "_model_module_version": "1.5.0",
            "_model_name": "HBoxModel",
            "_view_count": null,
            "_view_module": "@jupyter-widgets/controls",
            "_view_module_version": "1.5.0",
            "_view_name": "HBoxView",
            "box_style": "",
            "children": [
              "IPY_MODEL_7d6b444944f24dbdb352cde5a8d57205",
              "IPY_MODEL_4c0913e0ab374173b37893fe02e13c2d",
              "IPY_MODEL_a5a10332e74340c0ae22b60e0bb8884f"
            ],
            "layout": "IPY_MODEL_c5b6170e203b47ec8fe028b362698311"
          }
        },
        "2d7cad265c7549eca777e7b7174851ea": {
          "model_module": "@jupyter-widgets/controls",
          "model_module_version": "1.5.0",
          "model_name": "ProgressStyleModel",
          "state": {
            "_model_module": "@jupyter-widgets/controls",
            "_model_module_version": "1.5.0",
            "_model_name": "ProgressStyleModel",
            "_view_count": null,
            "_view_module": "@jupyter-widgets/base",
            "_view_module_version": "1.2.0",
            "_view_name": "StyleView",
            "bar_color": null,
            "description_width": ""
          }
        },
        "380f126a696a4fab837d7837e0f515b5": {
          "model_module": "@jupyter-widgets/controls",
          "model_module_version": "1.5.0",
          "model_name": "FloatProgressModel",
          "state": {
            "_dom_classes": [],
            "_model_module": "@jupyter-widgets/controls",
            "_model_module_version": "1.5.0",
            "_model_name": "FloatProgressModel",
            "_view_count": null,
            "_view_module": "@jupyter-widgets/controls",
            "_view_module_version": "1.5.0",
            "_view_name": "ProgressView",
            "bar_style": "",
            "description": "",
            "description_tooltip": null,
            "layout": "IPY_MODEL_8e286578dcf2485e863a376b607f04c6",
            "max": 1,
            "min": 0,
            "orientation": "horizontal",
            "style": "IPY_MODEL_2817fab1529549849383ed8ddcf9d43b",
            "value": 1
          }
        },
        "4c0913e0ab374173b37893fe02e13c2d": {
          "model_module": "@jupyter-widgets/controls",
          "model_module_version": "1.5.0",
          "model_name": "FloatProgressModel",
          "state": {
            "_dom_classes": [],
            "_model_module": "@jupyter-widgets/controls",
            "_model_module_version": "1.5.0",
            "_model_name": "FloatProgressModel",
            "_view_count": null,
            "_view_module": "@jupyter-widgets/controls",
            "_view_module_version": "1.5.0",
            "_view_name": "ProgressView",
            "bar_style": "",
            "description": "",
            "description_tooltip": null,
            "layout": "IPY_MODEL_18f927c343cd4d2592485e534edb4c49",
            "max": 1,
            "min": 0,
            "orientation": "horizontal",
            "style": "IPY_MODEL_2d7cad265c7549eca777e7b7174851ea",
            "value": 1
          }
        },
        "6806c4d18be54e3a8de258d36ad85586": {
          "model_module": "@jupyter-widgets/base",
          "model_module_version": "1.2.0",
          "model_name": "LayoutModel",
          "state": {
            "_model_module": "@jupyter-widgets/base",
            "_model_module_version": "1.2.0",
            "_model_name": "LayoutModel",
            "_view_count": null,
            "_view_module": "@jupyter-widgets/base",
            "_view_module_version": "1.2.0",
            "_view_name": "LayoutView",
            "align_content": null,
            "align_items": null,
            "align_self": null,
            "border": null,
            "bottom": null,
            "display": null,
            "flex": null,
            "flex_flow": null,
            "grid_area": null,
            "grid_auto_columns": null,
            "grid_auto_flow": null,
            "grid_auto_rows": null,
            "grid_column": null,
            "grid_gap": null,
            "grid_row": null,
            "grid_template_areas": null,
            "grid_template_columns": null,
            "grid_template_rows": null,
            "height": null,
            "justify_content": null,
            "justify_items": null,
            "left": null,
            "margin": null,
            "max_height": null,
            "max_width": null,
            "min_height": null,
            "min_width": null,
            "object_fit": null,
            "object_position": null,
            "order": null,
            "overflow": null,
            "overflow_x": null,
            "overflow_y": null,
            "padding": null,
            "right": null,
            "top": null,
            "visibility": null,
            "width": null
          }
        },
        "6e031e2c7e204a00bdb225260e4f04d9": {
          "model_module": "@jupyter-widgets/controls",
          "model_module_version": "1.5.0",
          "model_name": "HBoxModel",
          "state": {
            "_dom_classes": [],
            "_model_module": "@jupyter-widgets/controls",
            "_model_module_version": "1.5.0",
            "_model_name": "HBoxModel",
            "_view_count": null,
            "_view_module": "@jupyter-widgets/controls",
            "_view_module_version": "1.5.0",
            "_view_name": "HBoxView",
            "box_style": "",
            "children": [
              "IPY_MODEL_b28c497703e044a480f6e282c1203e14",
              "IPY_MODEL_380f126a696a4fab837d7837e0f515b5",
              "IPY_MODEL_24bb35c5c54047d494db0ec262eb8b7a"
            ],
            "layout": "IPY_MODEL_1f725b05915e43e2be57991409a9b9e7"
          }
        },
        "7d6b444944f24dbdb352cde5a8d57205": {
          "model_module": "@jupyter-widgets/controls",
          "model_module_version": "1.5.0",
          "model_name": "HTMLModel",
          "state": {
            "_dom_classes": [],
            "_model_module": "@jupyter-widgets/controls",
            "_model_module_version": "1.5.0",
            "_model_name": "HTMLModel",
            "_view_count": null,
            "_view_module": "@jupyter-widgets/controls",
            "_view_module_version": "1.5.0",
            "_view_name": "HTMLView",
            "description": "",
            "description_tooltip": null,
            "layout": "IPY_MODEL_277bc039e47a493c88a230e347cb7969",
            "placeholder": "​",
            "style": "IPY_MODEL_f4bf382acef64606b6ae77651b82994a",
            "value": "Sanity Checking DataLoader 0: 100%"
          }
        },
        "8e286578dcf2485e863a376b607f04c6": {
          "model_module": "@jupyter-widgets/base",
          "model_module_version": "1.2.0",
          "model_name": "LayoutModel",
          "state": {
            "_model_module": "@jupyter-widgets/base",
            "_model_module_version": "1.2.0",
            "_model_name": "LayoutModel",
            "_view_count": null,
            "_view_module": "@jupyter-widgets/base",
            "_view_module_version": "1.2.0",
            "_view_name": "LayoutView",
            "align_content": null,
            "align_items": null,
            "align_self": null,
            "border": null,
            "bottom": null,
            "display": null,
            "flex": "2",
            "flex_flow": null,
            "grid_area": null,
            "grid_auto_columns": null,
            "grid_auto_flow": null,
            "grid_auto_rows": null,
            "grid_column": null,
            "grid_gap": null,
            "grid_row": null,
            "grid_template_areas": null,
            "grid_template_columns": null,
            "grid_template_rows": null,
            "height": null,
            "justify_content": null,
            "justify_items": null,
            "left": null,
            "margin": null,
            "max_height": null,
            "max_width": null,
            "min_height": null,
            "min_width": null,
            "object_fit": null,
            "object_position": null,
            "order": null,
            "overflow": null,
            "overflow_x": null,
            "overflow_y": null,
            "padding": null,
            "right": null,
            "top": null,
            "visibility": null,
            "width": null
          }
        },
        "96ccdc01edb84dc49d93e926f9317bd9": {
          "model_module": "@jupyter-widgets/base",
          "model_module_version": "1.2.0",
          "model_name": "LayoutModel",
          "state": {
            "_model_module": "@jupyter-widgets/base",
            "_model_module_version": "1.2.0",
            "_model_name": "LayoutModel",
            "_view_count": null,
            "_view_module": "@jupyter-widgets/base",
            "_view_module_version": "1.2.0",
            "_view_name": "LayoutView",
            "align_content": null,
            "align_items": null,
            "align_self": null,
            "border": null,
            "bottom": null,
            "display": null,
            "flex": null,
            "flex_flow": null,
            "grid_area": null,
            "grid_auto_columns": null,
            "grid_auto_flow": null,
            "grid_auto_rows": null,
            "grid_column": null,
            "grid_gap": null,
            "grid_row": null,
            "grid_template_areas": null,
            "grid_template_columns": null,
            "grid_template_rows": null,
            "height": null,
            "justify_content": null,
            "justify_items": null,
            "left": null,
            "margin": null,
            "max_height": null,
            "max_width": null,
            "min_height": null,
            "min_width": null,
            "object_fit": null,
            "object_position": null,
            "order": null,
            "overflow": null,
            "overflow_x": null,
            "overflow_y": null,
            "padding": null,
            "right": null,
            "top": null,
            "visibility": null,
            "width": null
          }
        },
        "a0ea6e43b4b0427ba62a9ce6a1275db8": {
          "model_module": "@jupyter-widgets/controls",
          "model_module_version": "1.5.0",
          "model_name": "DescriptionStyleModel",
          "state": {
            "_model_module": "@jupyter-widgets/controls",
            "_model_module_version": "1.5.0",
            "_model_name": "DescriptionStyleModel",
            "_view_count": null,
            "_view_module": "@jupyter-widgets/base",
            "_view_module_version": "1.2.0",
            "_view_name": "StyleView",
            "description_width": ""
          }
        },
        "a5a10332e74340c0ae22b60e0bb8884f": {
          "model_module": "@jupyter-widgets/controls",
          "model_module_version": "1.5.0",
          "model_name": "HTMLModel",
          "state": {
            "_dom_classes": [],
            "_model_module": "@jupyter-widgets/controls",
            "_model_module_version": "1.5.0",
            "_model_name": "HTMLModel",
            "_view_count": null,
            "_view_module": "@jupyter-widgets/controls",
            "_view_module_version": "1.5.0",
            "_view_name": "HTMLView",
            "description": "",
            "description_tooltip": null,
            "layout": "IPY_MODEL_96ccdc01edb84dc49d93e926f9317bd9",
            "placeholder": "​",
            "style": "IPY_MODEL_bf3c217e496b456eb3b6ba0edfc64344",
            "value": " 2/2 [00:00&lt;00:00,  3.68it/s]"
          }
        },
        "b28c497703e044a480f6e282c1203e14": {
          "model_module": "@jupyter-widgets/controls",
          "model_module_version": "1.5.0",
          "model_name": "HTMLModel",
          "state": {
            "_dom_classes": [],
            "_model_module": "@jupyter-widgets/controls",
            "_model_module_version": "1.5.0",
            "_model_name": "HTMLModel",
            "_view_count": null,
            "_view_module": "@jupyter-widgets/controls",
            "_view_module_version": "1.5.0",
            "_view_name": "HTMLView",
            "description": "",
            "description_tooltip": null,
            "layout": "IPY_MODEL_ef778d7b4fb248b3827c4f41a6f4fabd",
            "placeholder": "​",
            "style": "IPY_MODEL_a0ea6e43b4b0427ba62a9ce6a1275db8",
            "value": "Epoch 1:  32%"
          }
        },
        "bf3c217e496b456eb3b6ba0edfc64344": {
          "model_module": "@jupyter-widgets/controls",
          "model_module_version": "1.5.0",
          "model_name": "DescriptionStyleModel",
          "state": {
            "_model_module": "@jupyter-widgets/controls",
            "_model_module_version": "1.5.0",
            "_model_name": "DescriptionStyleModel",
            "_view_count": null,
            "_view_module": "@jupyter-widgets/base",
            "_view_module_version": "1.2.0",
            "_view_name": "StyleView",
            "description_width": ""
          }
        },
        "c5b6170e203b47ec8fe028b362698311": {
          "model_module": "@jupyter-widgets/base",
          "model_module_version": "1.2.0",
          "model_name": "LayoutModel",
          "state": {
            "_model_module": "@jupyter-widgets/base",
            "_model_module_version": "1.2.0",
            "_model_name": "LayoutModel",
            "_view_count": null,
            "_view_module": "@jupyter-widgets/base",
            "_view_module_version": "1.2.0",
            "_view_name": "LayoutView",
            "align_content": null,
            "align_items": null,
            "align_self": null,
            "border": null,
            "bottom": null,
            "display": "inline-flex",
            "flex": null,
            "flex_flow": "row wrap",
            "grid_area": null,
            "grid_auto_columns": null,
            "grid_auto_flow": null,
            "grid_auto_rows": null,
            "grid_column": null,
            "grid_gap": null,
            "grid_row": null,
            "grid_template_areas": null,
            "grid_template_columns": null,
            "grid_template_rows": null,
            "height": null,
            "justify_content": null,
            "justify_items": null,
            "left": null,
            "margin": null,
            "max_height": null,
            "max_width": null,
            "min_height": null,
            "min_width": null,
            "object_fit": null,
            "object_position": null,
            "order": null,
            "overflow": null,
            "overflow_x": null,
            "overflow_y": null,
            "padding": null,
            "right": null,
            "top": null,
            "visibility": "hidden",
            "width": "100%"
          }
        },
        "ef778d7b4fb248b3827c4f41a6f4fabd": {
          "model_module": "@jupyter-widgets/base",
          "model_module_version": "1.2.0",
          "model_name": "LayoutModel",
          "state": {
            "_model_module": "@jupyter-widgets/base",
            "_model_module_version": "1.2.0",
            "_model_name": "LayoutModel",
            "_view_count": null,
            "_view_module": "@jupyter-widgets/base",
            "_view_module_version": "1.2.0",
            "_view_name": "LayoutView",
            "align_content": null,
            "align_items": null,
            "align_self": null,
            "border": null,
            "bottom": null,
            "display": null,
            "flex": null,
            "flex_flow": null,
            "grid_area": null,
            "grid_auto_columns": null,
            "grid_auto_flow": null,
            "grid_auto_rows": null,
            "grid_column": null,
            "grid_gap": null,
            "grid_row": null,
            "grid_template_areas": null,
            "grid_template_columns": null,
            "grid_template_rows": null,
            "height": null,
            "justify_content": null,
            "justify_items": null,
            "left": null,
            "margin": null,
            "max_height": null,
            "max_width": null,
            "min_height": null,
            "min_width": null,
            "object_fit": null,
            "object_position": null,
            "order": null,
            "overflow": null,
            "overflow_x": null,
            "overflow_y": null,
            "padding": null,
            "right": null,
            "top": null,
            "visibility": null,
            "width": null
          }
        },
        "f4bf382acef64606b6ae77651b82994a": {
          "model_module": "@jupyter-widgets/controls",
          "model_module_version": "1.5.0",
          "model_name": "DescriptionStyleModel",
          "state": {
            "_model_module": "@jupyter-widgets/controls",
            "_model_module_version": "1.5.0",
            "_model_name": "DescriptionStyleModel",
            "_view_count": null,
            "_view_module": "@jupyter-widgets/base",
            "_view_module_version": "1.2.0",
            "_view_name": "StyleView",
            "description_width": ""
          }
        }
      }
    }
  },
  "nbformat": 4,
  "nbformat_minor": 5
}
